{
 "cells": [
  {
   "cell_type": "code",
   "execution_count": 1,
   "metadata": {},
   "outputs": [],
   "source": [
    "import pandas as pd\n",
    "import numpy as np"
   ]
  },
  {
   "cell_type": "code",
   "execution_count": 2,
   "metadata": {},
   "outputs": [],
   "source": [
    "df = pd.read_csv('Dataset\\plataformas.csv')"
   ]
  },
  {
   "attachments": {},
   "cell_type": "markdown",
   "metadata": {},
   "source": [
    "1. Película (sólo película, no serie, etc) con mayor duración según año, plataforma y tipo de duración. La función debe llamarse get_max_duration(year, platform, duration_type) y debe devolver sólo el string del nombre de la película."
   ]
  },
  {
   "cell_type": "code",
   "execution_count": 3,
   "metadata": {},
   "outputs": [],
   "source": [
    "def get_max_duration(year, platform, duration_type):\n",
    "    # Filtrar el DataFrame\n",
    "    df_filtered = df[(df['release_year'] == year) & (df['plataforma'] == platform) & (df['duration_type'] == duration_type) & (df['type'] == 'movie')]\n",
    "\n",
    "# Verificar si el DataFrame filtrado está vacío o si hay valores nulos en la columna de duración\n",
    "    if df_filtered.empty or df_filtered['duration_int'].isna().any():\n",
    "        return \"No disponible: la pelicula no se encuentra con esas especificaciones\"\n",
    "    \n",
    "    # Ordenar las filas por duración\n",
    "    df_sorted = df_filtered.sort_values('duration_int', ascending=False)\n",
    "\n",
    "    # Tomar el nombre de la primera fila (la película con la duración más larga)\n",
    "    movie_name =  df_sorted.iloc[0]['title']\n",
    "\n",
    "    return 'La pelicula con mayor duración esta plataforma es:'+ movie_name\n"
   ]
  },
  {
   "cell_type": "code",
   "execution_count": 4,
   "metadata": {},
   "outputs": [
    {
     "data": {
      "text/plain": [
       "'La pelicula con mayor duración esta plataforma es:the united states vs. billie holiday'"
      ]
     },
     "execution_count": 4,
     "metadata": {},
     "output_type": "execute_result"
    }
   ],
   "source": [
    "get_max_duration(2021,'hulu','min')"
   ]
  },
  {
   "attachments": {},
   "cell_type": "markdown",
   "metadata": {},
   "source": [
    "2. Cantidad de películas (sólo películas, no series, etc) según plataforma, con un puntaje mayor a XX en determinado año. La función debe llamarse get_score_count(platform, scored, year) y debe devolver un int, con el total de películas que cumplen lo solicitado."
   ]
  },
  {
   "cell_type": "code",
   "execution_count": 5,
   "metadata": {},
   "outputs": [],
   "source": [
    "def get_score_count(platform: str, scored: float, year: int):\n",
    "    movies_platform_year = df.loc[(df['type'] == 'movie') & (df['plataforma'] == platform) & (df['release_year'] == year)]\n",
    "    movie_count = movies_platform_year.loc[movies_platform_year['rating_y'] > scored]['id'].count()\n",
    "    return  f'en la plataforma y scored ingresada hay un total de : {movie_count} películas'\n",
    "\n"
   ]
  },
  {
   "cell_type": "code",
   "execution_count": 6,
   "metadata": {},
   "outputs": [
    {
     "data": {
      "text/plain": [
       "'en la plataforma y scored ingresada hay un total de : 35 películas'"
      ]
     },
     "execution_count": 6,
     "metadata": {},
     "output_type": "execute_result"
    }
   ],
   "source": [
    "get_score_count('disney', 3.2, 2011)"
   ]
  },
  {
   "attachments": {},
   "cell_type": "markdown",
   "metadata": {},
   "source": [
    "3. Cantidad de películas (sólo películas, no series, etc) según plataforma. La función debe llamarse get_count_platform(platform) y debe devolver un int, con el número total de películas de esa plataforma. Las plataformas deben llamarse amazon, netflix, hulu, disney."
   ]
  },
  {
   "cell_type": "code",
   "execution_count": 7,
   "metadata": {},
   "outputs": [],
   "source": [
    "def get_count_platform(platform):\n",
    "    # filtrar filas que corresponden a películas y la plataforma especificada\n",
    "    movies = df[(df['type'] == 'movie') & (df['plataforma'] == platform)]\n",
    "   \n",
    "    return f'En esta plataforma existen {len(movies)} películas'\n"
   ]
  },
  {
   "cell_type": "code",
   "execution_count": 8,
   "metadata": {},
   "outputs": [
    {
     "data": {
      "text/plain": [
       "'En esta plataforma existen 7814 películas'"
      ]
     },
     "execution_count": 8,
     "metadata": {},
     "output_type": "execute_result"
    }
   ],
   "source": [
    "get_count_platform('amazon')"
   ]
  },
  {
   "attachments": {},
   "cell_type": "markdown",
   "metadata": {},
   "source": [
    "4. Actor que más se repite según plataforma y año. La función debe llamarse get_actor(platform, year) y debe devolver sólo el string con el nombre del actor que más se repite según la plataforma y el año dado."
   ]
  },
  {
   "cell_type": "code",
   "execution_count": 9,
   "metadata": {},
   "outputs": [],
   "source": [
    "def get_actor(platform, year):\n",
    "    df_filtered = df[(df['plataforma'] == platform) & (df['release_year'] == year)]\n",
    "    actor_count = {}\n",
    "    for actors in df_filtered['cast']:\n",
    "        if isinstance(actors, str):\n",
    "            for actor in actors.split(','):\n",
    "                actor_count[actor.strip()] = actor_count.get(actor.strip(), 0) + 1\n",
    "    if len(actor_count) == 0:\n",
    "        return \"No se encontraron actores\"\n",
    "    else:\n",
    "        return 'Actor que más se repite según plataforma y año:  ' + max(actor_count, key=actor_count.get)\n",
    "\n"
   ]
  },
  {
   "cell_type": "code",
   "execution_count": 10,
   "metadata": {},
   "outputs": [
    {
     "data": {
      "text/plain": [
       "'Actor que más se repite según plataforma y año:  anne-marie newland'"
      ]
     },
     "execution_count": 10,
     "metadata": {},
     "output_type": "execute_result"
    }
   ],
   "source": [
    "get_actor('amazon', 2014)"
   ]
  },
  {
   "attachments": {},
   "cell_type": "markdown",
   "metadata": {},
   "source": [
    "5. La cantidad de contenidos/productos (todo lo disponible en streaming) que se publicó por país y año. La función debe llamarse prod_per_county(tipo,pais,anio) deberia devolver la cantidada de contenidos/productos segun el tipo de contenido (pelicula,serie) por pais y año en un diccionario con las variables llamadas 'pais' (nombre del pais), 'anio' (año), 'pelicula' (cantidad de contenidos/productos)."
   ]
  },
  {
   "cell_type": "code",
   "execution_count": 11,
   "metadata": {},
   "outputs": [],
   "source": [
    "def prod_per_county(tipo, pais, anio):\n",
    "\n",
    "    filtro = df[(df['type'] == tipo) & (df['country'].str.contains(pais)) & (df['release_year'] == anio)]\n",
    "   \n",
    "    cantidad = len(filtro)\n",
    "    resultado = {'La cantidad de contenidos que se publicó para ': pais, 'en el anio': anio, tipo: cantidad}\n",
    "    return resultado\n"
   ]
  },
  {
   "cell_type": "code",
   "execution_count": 12,
   "metadata": {},
   "outputs": [
    {
     "data": {
      "text/plain": [
       "{'La cantidad de contenidos que se publicó para ': 'argentina',\n",
       " 'en el anio': 2020,\n",
       " 'movie': 8}"
      ]
     },
     "execution_count": 12,
     "metadata": {},
     "output_type": "execute_result"
    }
   ],
   "source": [
    "prod_per_county('movie', 'argentina', 2020)\n",
    "\n"
   ]
  },
  {
   "attachments": {},
   "cell_type": "markdown",
   "metadata": {},
   "source": [
    "6. La cantidad total de contenidos/productos (todo lo disponible en streaming, series, peliculas, etc) según el rating de audiencia dado (para que publico fue clasificada la pelicula). La función debe llamarse get_contents(rating) y debe devolver el numero total de contenido con ese rating de audiencias."
   ]
  },
  {
   "cell_type": "code",
   "execution_count": 13,
   "metadata": {},
   "outputs": [],
   "source": [
    "def get_contents(rating):\n",
    "   \n",
    "    df_filtered = df[df['rating_x'] == rating]\n",
    "  \n",
    "    count = len(df_filtered)\n",
    "    \n",
    "    return f'cantidad total de contenidos según el rating de audiencia dado es:  {count}'\n"
   ]
  },
  {
   "cell_type": "code",
   "execution_count": 14,
   "metadata": {},
   "outputs": [
    {
     "data": {
      "text/plain": [
       "'cantidad total de contenidos según el rating de audiencia dado es:  3905'"
      ]
     },
     "execution_count": 14,
     "metadata": {},
     "output_type": "execute_result"
    }
   ],
   "source": [
    "get_contents('tv-g')"
   ]
  }
 ],
 "metadata": {
  "kernelspec": {
   "display_name": "Python 3",
   "language": "python",
   "name": "python3"
  },
  "language_info": {
   "codemirror_mode": {
    "name": "ipython",
    "version": 3
   },
   "file_extension": ".py",
   "mimetype": "text/x-python",
   "name": "python",
   "nbconvert_exporter": "python",
   "pygments_lexer": "ipython3",
   "version": "3.11.3"
  },
  "orig_nbformat": 4
 },
 "nbformat": 4,
 "nbformat_minor": 2
}
